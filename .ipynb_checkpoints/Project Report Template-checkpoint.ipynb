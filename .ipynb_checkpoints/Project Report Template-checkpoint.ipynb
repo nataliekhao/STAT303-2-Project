{
 "cells": [
  {
   "cell_type": "raw",
   "id": "33dd6c4c",
   "metadata": {},
   "source": [
    "---\n",
    "title: \"Project Report\"\n",
    "\n",
    "subtitle: Pandas\n",
    "author: Natalie Khaoroptham, Isha Sharma, Raphael Tinio, Philia Wang \n",
    "date: 03/13/2023\n",
    "\n",
    "number-sections: true\n",
    "Abstract: _:————The purpose of this report is to predict how lifestyle choices and personal characteristics affect how much one pays in yearly health insurance. This was done by creating a linear regression model that minimized RMSE and RSE and maximized R-squared. Our final model indicates that insurance charges are driven by age (quadratically transformed), number of children, sex, region, and an interaction between BMI (binned) and smoking history. Health insurance consumers can expect higher charges if they are older, have children, have a higher BMI, live in the Northeast or are smokers, and health insurance providers can expect higher rates for these individuals as well. Our model scores an RMSE of $3898.77, an RSE of 4541.86, and has an R-squared value of 0.865. A better model would require a larger dataset or additional information about individuals, such as occupation and income. This model should also be routinely updated to reflect the current state of the economy, as well as other circumstances that affect health insurance.:————.\n",
    "format: \n",
    "  html:\n",
    "    toc: true\n",
    "    toc-title: Contents\n",
    "    self-contained: true\n",
    "    font-size: 100%\n",
    "    toc-depth: 4\n",
    "    mainfont: serif\n",
    "jupyter: python3\n",
    "---"
   ]
  },
  {
   "cell_type": "markdown",
   "id": "0116f49b",
   "metadata": {},
   "source": [
    "## Background / Motivation\n",
    "\n",
    "The healthcare system in the United States is deeply flawed, and its citizens suffer, potentially fatally, as a result. According to a poll from the University of Chicago, 40% of Americans report skipping a recommended medical test or treatment and 44% say they didn’t go to a doctor when they were sick or injured in the last year [3]. These high medical costs make health insurance an invaluable resource. However, health insurance can serve as another barrier to receiving proper medical care; not only can health insurance itself be very costly, but the health insurance system lacks transparency, and consumers may not understand where their money is going and how it translates to the medical care they receive. \n",
    "\n",
    "Consumers pay an upfront premium routinely that can be used to cover their medical costs down the line. Insurance companies determine the total premium they need to collect based on projected medical costs for all the consumers enrolled in a given plan, and determine the individual premium a consumer pays based on their personal characteristics (as they may translate to risk factors) [2]. Beyond this general overview of health insurance premiums, over the course of this report, we will attempt to develop a model that explains exactly how much a given individual will be expected to pay for their personal yearly health insurance premium."
   ]
  },
  {
   "cell_type": "markdown",
   "id": "84ff1421",
   "metadata": {},
   "source": [
    "## Problem statement \n",
    "\n",
    "The objective of this report is to shed light on how insurance is priced for consumers and what factors play a role, particularly in regards to the consumer’s lifestyle choices and personal characteristics. The resulting model should provide clarity to individuals who are curious about why they pay how much they pay for health insurance or potentially help consumers estimate how much they will be required to pay for their health insurance. This is a prediction problem."
   ]
  },
  {
   "cell_type": "markdown",
   "id": "38c7b95f",
   "metadata": {},
   "source": [
    "## Data sources\n",
    "\n",
    "Our data source was the open source dataset “Medical Cost Personal Datasets” from Kaggle (link can be found in references). This csv file includes observations of individual medical costs billed by health insurance and six potential predictor variables, including age, sex, body mass index, number of children, region of residence, and smoking history. The data is taken from 1338 individuals in the United States. \n",
    "\n",
    "The distribution for region and sex was even across all categories, but the data was not evenly split across smoking history: 15% of observations were smokers, while 85% were not. The distribution for BMI was unimodal and symmetric, and the distributions for age, number of children and charges were unimodal and right-skewed. \n",
    "\n",
    "We did not anticipate any issues due to the nature of the dataset. There was no missing data or need for imputation. \n"
   ]
  },
  {
   "cell_type": "markdown",
   "id": "8c255035",
   "metadata": {},
   "source": [
    "## Stakeholders\n",
    "Our report will be beneficial for our primary stakeholders, health insurance consumers. Using our model, individual consumers can get an estimate of how much they will have to pay for health insurance each year based on their age, sex, BMI, number of children, smoking history, and location. This knowledge could be beneficial for budgeting purposes, as well as serve as a baseline if they are comparing rates from different health insurance providers. This could also better their understanding of health insurance and provide them with more transparency on the system. \n",
    "\n",
    "Moreover, our report may be beneficial for health insurance providers and healthcare providers since these are the parties that monetarily profit off of health insurance. If this model changes consumers’ expectations for health insurance pricing, or if consumers make different decisions about their health insurance provider based on the model, health insurance providers may have to adjust the structure of their policies or provide more competitive pricing. Furthermore, with the help of this model, healthcare providers will have a better understanding of their patients and how they are paying for their services. Potentially, this could adjust how healthcare providers bill their patients. \n"
   ]
  },
  {
   "cell_type": "markdown",
   "id": "fe7ea9bb",
   "metadata": {},
   "source": [
    "## Data quality check / cleaning / preparation \n",
    "\n",
    "In a tabular form, show the distribution of values of each variable used in the analysis - for both categorical and continuous variables. Distribution of a categorical variable must include the number of missing values, the number of unique values, the frequency of all its levels. If a categorical variable has too many levels, you may just include the counts of the top 3-5 levels. \n",
    "\n",
    "If the tables in this section take too much space, you may put them in the appendix, and just mention any useful insights you obtained from the data quality check that helped you develop the model or helped you realize the necessary data cleaning / preparation.\n",
    "\n",
    "Were there any potentially incorrect values of variables that required cleaning? If yes, how did you clean them? \n",
    "\n",
    "Did you do any data wrangling or data preparation before the data was ready to use for model development? Did you create any new predictors from exisiting predictors? For example, if you have number of transactions and spend in a credit card dataset, you may create spend per transaction for predicting if a customer pays their credit card bill. Mention the steps at a broad level, you may put minor details in the appendix. Only mention the steps that ended up being useful towards developing your final model(s)."
   ]
  },
  {
   "cell_type": "markdown",
   "id": "fbb11c9b",
   "metadata": {},
   "source": [
    "## Exploratory data analysis"
   ]
  },
  {
   "cell_type": "markdown",
   "id": "e4bd74a9",
   "metadata": {},
   "source": [
    "Put the relevant EDA here (visualizations, tables, etc.) that helped you figure out useful predictors for developing the model(s). Only put the EDA that ended up being useful towards developing your final model(s). \n",
    "\n",
    "List the insights (as bullet points) you got from EDA that ended up being useful towards developing your final model. \n",
    "\n",
    "Again, if there are too many plots / tables, you may put them into appendix, and just mention the insights you got from them."
   ]
  },
  {
   "cell_type": "markdown",
   "id": "a79b15eb",
   "metadata": {},
   "source": [
    "Before creating our model, we performed EDA on all seven factors by visualizing"
   ]
  },
  {
   "cell_type": "code",
   "execution_count": null,
   "id": "311814b9",
   "metadata": {},
   "outputs": [],
   "source": [
    "# Relationship between smoker vs charge\n",
    "sns.boxplot(x = 'smoker', y = 'charges', data = train)"
   ]
  },
  {
   "cell_type": "code",
   "execution_count": null,
   "id": "0cc01831",
   "metadata": {},
   "outputs": [],
   "source": [
    "We noticed for non-smokers, there isn’t a clear relationship between charges and BMI. Hence, we tried binning the BMI based on the CDC’s classifications of 5 weight status categories to discern a clearer relationship and reduce noise in the data.\n",
    "\n",
    "\n",
    "The box plot of the binned BMI seems to show an increase in the median charge and spread for higher BMI bins.\n",
    "\n",
    "-----\n",
    "\n",
    "Another interesting variable was Age Vs. Charges: positive linear relationship but split into three distinct lines (each with different starting charges). The distinct lines comes from the smoker non-smoker variable where smokers have a higher baseline charge as seen by the intercept.\n",
    "\n",
    "Notably, the smoker subset of the age v. charge graph still shows two distinct lines with charges above and below $30,000.\n",
    "\n",
    "\n",
    "Summary stat. table revealed main difference between the two groups is in bmi:  Above $30k group had higher median and mean in the obese and extremely obese bins.\n",
    "\n",
    "\n",
    "Insight: Include interaction term between \n",
    "\n",
    "smoker and BMI because they seem to work together to affect charges\n",
    "\n",
    "\n",
    "\n",
    "did further exploration on other vairiables but they didn't have as much of a distinction between categories as age, smoker and bmi which seem to be the three most important vars\n",
    "\n"
   ]
  },
  {
   "cell_type": "markdown",
   "id": "d39c782c",
   "metadata": {},
   "source": [
    "## Approach\n",
    "\n",
    "We used a linear regression for our model because our dependent variable, yearly insurance charges, was measured in USD, which is continuous rather than discrete. We thought our model would be more useful if we could predict exact charges for an individual rather than just a level (low, medium, high). In our exploratory analysis, we determined the distribution of charges was skewed-right and unimodal; there were no natural breaks in the data where we could easily demarcate boundaries for levels or categories. Moreover, if we had created categories for charges (low, medium, high), these categories would be unevenly weighted, due to the right-skew, which could create issues for testing our model. Using a linear model would avoid these issues.\n",
    "\n",
    "The performance metrics we optimized were R-squared, RMSE, and RSE. We wanted an R-squared value as close to 100% as possible because this would mean through our model was very precise in predicting charges and that charges could be explained by the predictors and interactions we determined; however, this was not our main focus because R squared increases monotonically as long as variables are added to the model, which does not mean the model is necessarily bettered by the inclusion of these variables. We wanted to minimize RMSE because this would mean we minimized the average difference between the predicted and actual values for charges. Our target for RMSE was ~$3,000 because insurance charges vary from ~$1,100-64,000. We wanted to minimize RSE for similar reasons and also wanted it to be as close to RMSE as possible because this would mean our model avoided overfitting.\n",
    "One problem we anticipated was that our dataset only included six potential predictors. While this made the data easy to understand and clean, we were concerned this would be an oversimplification of how insurance works because there could be many other factors that come into play (occupationl, type of coverage for insurance plan, etc). \n",
    "\n",
    "Our first model predicted charges based on the six predictors, with no interactions or transformations. This gave us an R-squared of 0.763 and an RMSE of $5998, both of which were far from our target values. In the process of developing our model, we decided to bin BMI, use an interaction between BMI and smoking history, and transform age quadratically. These changes improved our model. We detail our reasoning for these changes in the following section. \n",
    "\n",
    "Our problem did not have pre-posted solutions. \n",
    "\n"
   ]
  },
  {
   "cell_type": "markdown",
   "id": "acab331a",
   "metadata": {},
   "source": [
    "## Developing the model"
   ]
  },
  {
   "cell_type": "markdown",
   "id": "ae5ec4c9",
   "metadata": {},
   "source": [
    "Explain the steps taken to develop and improve the base model - informative visualizations / addressing modeling assumption violations / variable transformation / interactions / outlier treatment / influential points treatment / addressing over-fitting / addressing multicollinearity / variable selection - stepwise regression, lasso, ridge regression). \n",
    "\n",
    "Did you succeed in achieving your goal, or did you fail? Why?\n",
    "\n",
    "**Put the final model equation**.\n",
    "\n",
    "**Important: This section should be rigorous and thorough. Present detailed information about decision you made, why you made them, and any evidence/experimentation to back them up.**"
   ]
  },
  {
   "cell_type": "markdown",
   "id": "f760a91a",
   "metadata": {},
   "source": [
    "#### Outliers and Influential Points\n",
    "\n",
    "An outlier test obtained by plotting the fitted values of the model against the studentized residuals revealed 52 outliers (out of 1070 training observations) in the model. Although the outliers make up less than 5% of the training observations, it was still necessary to investigate why these outliers existed, and if they affected the quality of the model. The high leverage test (using a leverage cutoff of 4 times the average leverage) revealed that there were 17 high leverage points in the training dataset, but only 1 was a highly influential point (high leverage and outlier). Although removing the influential point decreased RMSE, the difference between the model RMSE with and without the influential point was very small– it was about a 27 cent difference (from 3898.77 to 3898.49 dollars). Additionally, RSE increased (from 4541.86 to 4543.78) and the R-squared of the model stayed the same at 0.865. Overall, the quality of the model did not improve significantly. This remained the case after testing for outliers with multiple values in np.random.seed()-- in fact, the model without the influential point performed worse on all 3 metrics (RMSE, RSE, and R-squared) on multiple random seed values. To further our understanding of the causes for the outliers, we investigated the trends between the predictors and the outliers. While all of the other predictors had a normal distribution in the outliers, over 82% of the outliers were non-smokers. Thus, we came to the conclusion that there must be some predictors that are not represented in our dataset which are causing these skews. We also chose to keep all outliers and the influential point in the datasets for developing the model because we believe that they remain significant in creating an accurate model, and additional information (such as more predictors) would be needed to consider removing them. "
   ]
  },
  {
   "cell_type": "markdown",
   "id": "1b46343d",
   "metadata": {},
   "source": [
    "## Limitations of the model with regard to inference / prediction"
   ]
  },
  {
   "cell_type": "markdown",
   "id": "c85ead90",
   "metadata": {},
   "source": [
    "The information related to the predictors in our model will be very convenient to acquire for all stakeholders. The predictors in our model are all related to an individual’s health and general demographics (age, smoking history, bmi, region of residence, number of children, sex). Our stakeholders who are consumers of health insurance plans will get results from our model immediately, since they already have the predictor information on hand. It is the same case for healthcare workers (such as medical offices or hospitals. They already have the patient’s information on hand, so getting results from our model will also be immediate for these stakeholders. Our stakeholders who are the healthcare insurance companies will need to acquire information from potential customers before using our model to predict what prices they should be charging. This collection of information is simple for them because they will simply request for information from potential customers. They can then use the model and get results immediately. \n",
    "\n",
    "One point of concern in our model is the lack of some information that would be significant predictors in an insurance premium prediction model. This would include an individual’s income level, job occupation, and whether they would like a more basic or advanced health insurance plan. While our stakeholders all have this information on hand, our training dataset does not. We believe a more accurate model would implement these predictors. \n",
    "\n",
    "Another point of concern is the factor of pricing and economy. Our model is one that predicts the price of insurance premiums, but this is also highly reliant on the general state of the economy and healthcare industry. For instance, high rates of inflation or shortage of healthcare supplies will significantly impact pricing across multiple industries. In real life, healthcare insurance companies would adjust their prices according to these rate of inflation in the economy, but our model does not do so. Thus, our model would need to be recalibrated according to more updated training data whenever there are significant changes in the economy. \n"
   ]
  },
  {
   "cell_type": "markdown",
   "id": "62a185cb",
   "metadata": {},
   "source": [
    "## Conclusions and Recommendations to stakeholder(s)\n",
    "\n",
    "Overall, our model tells stakeholder that individuals who are older, have a smoking history, have a higher bmi, have more children, and who are located in the northeast will have higher health insurance costs. The quadratic transformation on age tells our stakeholders that the older the patient is, the more a unit increase in their age will raise the health insurance price. An example of our model in numerical terms: for every additionally child (dependent) on an individual’s insurance plan, an individual will be charged about $717.44 more for health insurance premiums. \n",
    "\n",
    "Our conclusion allows the stakeholders to get a relatively accurate estimate for health insurance premium costs. Stakeholders who are health insurance customers will be able to use our model to predict how much they will need to spend on health insurance. This will allow for easier and more accurate budgeting of their personal costs in everyday life. Health insurance customers who are older, have a smoking history, have more children, and have a higher bmi should allocate more money towards health insurance. Stakeholders who are the health insurance companies can use our model to predict how much to charge an individual for health insurance premiums. This will allow the companies to ensure higher profits, as they can minimize errors made in pricing insurance plans with our model. Finally, stakeholders who are the healthcare providers can use our model to predict how much money they will earn from patients. Healthcare insurance premiums are indirectly linked to how much the healthcare provider will earn. Thus, these healthcare providers should use our model when keeping track of their finances, as the model will give them more accurate profit forecasts as well. \n",
    "\n",
    "The RMSE of our model is $3898.77 and the RSE is 4541.86, and the R-squared is 0.865. Since the RMSE is smaller than the RSE there is definitely no overfitting in the data (the model seems to be working better for unseen data). As mentioned above, we believe that the model could be improved (lower RMSE and RSE) with additional predictors and information. When looking at how health insurance is typically priced, an individual’s income level and occupation are also considered. Thus, our stakeholders should be aware of this, and consider using both our model and additional information on top of it when pricing health insurance premiums. Another thing mentioned above is that the model should be updated when there are significant change in the economy (inflation and overall price changes). There is no formal timeline for this procedure (as the state of the economy does not follow a constant pattern), but the model should be re-trained with more updated data whenever appropriate. "
   ]
  },
  {
   "cell_type": "markdown",
   "id": "9c44497c",
   "metadata": {},
   "source": [
    "## GitHub and individual contribution {-}"
   ]
  },
  {
   "cell_type": "markdown",
   "id": "c98b3f66",
   "metadata": {},
   "source": [
    "**https://github.com/nataliekhao/STAT303-2-Project** for the project repository."
   ]
  },
  {
   "cell_type": "markdown",
   "id": "0ca45613",
   "metadata": {},
   "source": [
    "Add details of each team member's contribution in the table below."
   ]
  },
  {
   "cell_type": "markdown",
   "id": "5505da5c",
   "metadata": {},
   "source": [
    "<html>\n",
    "<style>\n",
    "table, td, th {\n",
    "  border: 1px solid black;\n",
    "}\n",
    "\n",
    "table {\n",
    "  border-collapse: collapse;\n",
    "  width: 100%;\n",
    "}\n",
    "\n",
    "th {\n",
    "  text-align: left;\n",
    "}\n",
    "    \n",
    "\n",
    "</style>\n",
    "<body>\n",
    "\n",
    "<h2>Individual contribution</h2>\n",
    "\n",
    "<table style=\"width:100%\">\n",
    "     <colgroup>\n",
    "       <col span=\"1\" style=\"width: 15%;\">\n",
    "       <col span=\"1\" style=\"width: 20%;\">\n",
    "       <col span=\"1\" style=\"width: 50%;\">\n",
    "       <col span=\"1\" style=\"width: 15%;\"> \n",
    "    </colgroup>\n",
    "  <tr>\n",
    "    <th>Team member</th>\n",
    "    <th>Contributed aspects</th>\n",
    "    <th>Details</th>\n",
    "    <th>Number of GitHub commits</th>\n",
    "  </tr>\n",
    "  <tr>\n",
    "    <td>Natalie Khaoroptham</td>\n",
    "    <td>Data cleaning and EDA</td>\n",
    "    <td>Cleaned data to impute missing values and developed visualizations to identify appropriate variable transformations.</td>\n",
    "    <td>100</td>\n",
    "  </tr>\n",
    "  <tr>\n",
    "    <td>Isha Sharma</td>\n",
    "    <td>Variable selection, approach, background, problem statement, data source, stakeholders, abstract, references</td>\n",
    "    <td>Identified relevant variable interactions (variable subset selection), synthesized what we discussed as a group for sections 1-4 and Abstract, summarized steps and setup for Approach section.</td>\n",
    "    <td>59</td>\n",
    "  </tr>\n",
    "    <tr>\n",
    "    <td>Raphael Tinio</td>\n",
    "    <td>Outlier and influential points treatment</td>\n",
    "    <td>Identified outliers/influential points and analayzed their effect on the model.</td>\n",
    "    <td>130</td>    \n",
    "  </tr>\n",
    "    <tr>\n",
    "    <td>Philia Wang</td>\n",
    "    <td>Addressed outliers and influential points treatment, conclusion and recommendations to stakeholders. </td>\n",
    "    <td>Extracted outliers to analyze potential trends and patterns of predictors. Analyzed the effect of removing influential points on the model. Interpreted model and wrote conclusions and recommendations sections.</td>\n",
    "    <td>150</td>    \n",
    "  </tr>\n",
    "</table>"
   ]
  },
  {
   "cell_type": "markdown",
   "id": "192bbd23",
   "metadata": {},
   "source": [
    "It was difficult to navigate GitHub for us. We were confused on how GitHub works, and how to go about pulling files from the main brain, editing them, then committing them. After we figure out GitHub, collaboration on the project was much easier, as we were able to access each other's work conveniently. It was also convenient to see who contirbuted what to the documents/code. We are not 100% comfortable with GitHub, but we are getting there. "
   ]
  },
  {
   "cell_type": "markdown",
   "id": "00b1cafe",
   "metadata": {},
   "source": [
    "## References"
   ]
  },
  {
   "cell_type": "markdown",
   "id": "ebdb1aad",
   "metadata": {},
   "source": [
    "[1] Choi, M. (2018, November). Medical Cost Personal Datasets, Version 1. Retrieved February 20, 2023 from https://www.kaggle.com/datasets/mirichoi0218/insurance \n",
    "\n",
    "[2] Finkelstein, A., Mahoney, N., & Notowidigdo, M. J. (2018). What does (formal) health insurance do, and for whom?. Annual Review of Economics, 10, 261-286. \n",
    "\n",
    "[3] Ingersoll, T., & Young, E. (2018, March 26). New Survey Finds Large Number of People Skipping Necessary Medical... West Health. https://www.westhealth.org/press-release/survey2018/ \n"
   ]
  },
  {
   "cell_type": "markdown",
   "id": "5831751c",
   "metadata": {},
   "source": [
    "## Appendix {-}"
   ]
  },
  {
   "cell_type": "markdown",
   "id": "d13d374d",
   "metadata": {},
   "source": [
    "You may put additional stuff here as Appendix. You may refer to the Appendix in the main report to support your arguments. However, the appendix section is unlikely to be checked while grading, unless the grader deems it necessary."
   ]
  }
 ],
 "metadata": {
  "kernelspec": {
   "display_name": "Python 3 (ipykernel)",
   "language": "python",
   "name": "python3"
  },
  "language_info": {
   "codemirror_mode": {
    "name": "ipython",
    "version": 3
   },
   "file_extension": ".py",
   "mimetype": "text/x-python",
   "name": "python",
   "nbconvert_exporter": "python",
   "pygments_lexer": "ipython3",
   "version": "3.9.12"
  }
 },
 "nbformat": 4,
 "nbformat_minor": 5
}
